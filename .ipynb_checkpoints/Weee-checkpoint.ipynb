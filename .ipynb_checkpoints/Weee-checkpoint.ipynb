{
 "cells": [
  {
   "cell_type": "code",
   "execution_count": null,
   "metadata": {},
   "outputs": [],
   "source": [
    "%load_ext jupyternotify\n",
    "import urllib.request\n",
    "import json\n",
    "import time\n",
    "import random as random\n",
    "from datetime import datetime\n",
    "import os"
   ]
  },
  {
   "cell_type": "code",
   "execution_count": null,
   "metadata": {},
   "outputs": [],
   "source": [
    "# %%notify -m \"Found Wee Window!!\"\n",
    "def checkWindow():\n",
    "    with urllib.request.urlopen('https://www.sayweee.com/api/v1/shopping/date?pre_order_id=5287338') as response:\n",
    "        data = json.loads(response.read())[\"object\"][\"delivery\"]\n",
    "        windowCount = len(data)\n",
    "        hasWindow = len(list(filter(lambda x: x, map(lambda x: x[\"available\"], data)))) > 0\n",
    "        print(\"%s ==> %d Slots ==> HasWindow=%s\" % (datetime.now(),windowCount, hasWindow))\n",
    "        return hasWindow\n",
    "\n",
    "hasWindow = checkWindow()\n",
    "limit = 60\n",
    "while not hasWindow and limit > 0:\n",
    "    time.sleep(random.randrange(100,140))\n",
    "    hasWindow = checkWindow()\n",
    "    limit -= 1\n",
    "if hasWindow or True:\n",
    "    os.system(\"open sound.mp3\")"
   ]
  }
 ],
 "metadata": {
  "kernelspec": {
   "display_name": "Python 3",
   "language": "python",
   "name": "python3"
  },
  "language_info": {
   "codemirror_mode": {
    "name": "ipython",
    "version": 3
   },
   "file_extension": ".py",
   "mimetype": "text/x-python",
   "name": "python",
   "nbconvert_exporter": "python",
   "pygments_lexer": "ipython3",
   "version": "3.7.3"
  },
  "toc": {
   "base_numbering": 1,
   "nav_menu": {},
   "number_sections": true,
   "sideBar": true,
   "skip_h1_title": false,
   "title_cell": "Table of Contents",
   "title_sidebar": "Contents",
   "toc_cell": false,
   "toc_position": {},
   "toc_section_display": true,
   "toc_window_display": false
  },
  "varInspector": {
   "cols": {
    "lenName": 16,
    "lenType": 16,
    "lenVar": 40
   },
   "kernels_config": {
    "python": {
     "delete_cmd_postfix": "",
     "delete_cmd_prefix": "del ",
     "library": "var_list.py",
     "varRefreshCmd": "print(var_dic_list())"
    },
    "r": {
     "delete_cmd_postfix": ") ",
     "delete_cmd_prefix": "rm(",
     "library": "var_list.r",
     "varRefreshCmd": "cat(var_dic_list()) "
    }
   },
   "types_to_exclude": [
    "module",
    "function",
    "builtin_function_or_method",
    "instance",
    "_Feature"
   ],
   "window_display": false
  }
 },
 "nbformat": 4,
 "nbformat_minor": 2
}
